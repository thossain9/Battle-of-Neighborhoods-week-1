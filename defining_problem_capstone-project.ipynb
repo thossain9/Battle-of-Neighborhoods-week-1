{
 "cells": [
  {
   "cell_type": "markdown",
   "metadata": {},
   "source": [
    "<!-- This capstone project will be graded by your peers. This capstone project is worth 70% of your total grade. The project will be completed over the course of 2 weeks.  Week 1 submissions will be worth 30% whereas week 2 submissions will be worth 40% of your total grade.\n",
    "\n",
    "For this week, you will required to submit the following:\n",
    "\n",
    "A description of the problem and a discussion of the background. (15 marks)\n",
    "A description of the data and how it will be used to solve the problem. (15 marks)\n",
    "For the second week, the final deliverables of the project will be:\n",
    "\n",
    "A link to your Notebook on your Github repository, showing your code. (15 marks)\n",
    "2. A full report consisting of all of the following components (15 marks):\n",
    "\n",
    "Introduction where you discuss the business problem and who would be interested in this project.\n",
    "Data where you describe the data that will be used to solve the problem and the source of the data.\n",
    "Methodology section which represents the main component of the report where you discuss and describe any exploratory data analysis that you did, any inferential statistical testing that you performed, if any, and what machine learnings were used and why.\n",
    "Results section where you discuss the results.\n",
    "Discussion section where you discuss any observations you noted and any recommendations you can make based on the results.\n",
    "Conclusion section where you conclude the report.\n",
    "3. Your choice of a presentation or blogpost. (10 marks) -->"
   ]
  },
  {
   "cell_type": "markdown",
   "metadata": {},
   "source": [
    "# Name of the Project:The Battle of Neighborhoods (Week 1)"
   ]
  },
  {
   "cell_type": "markdown",
   "metadata": {},
   "source": [
    "## Background discussion and problem description"
   ]
  },
  {
   "cell_type": "markdown",
   "metadata": {},
   "source": [
    "We like to start a restaurant business either in a borough of the City of Toronto or of New York. Lets select Scarborough in Toronto and Manhattan in New York. Now, we are to select the best option between these two. \n",
    "\n",
    "Better decision depend on many factors; main factors are:\n",
    "a. Population in each borough.\n",
    "b. Numbers of restaurant in each borough.\n",
    "c. Types of restaurant in each borough\n",
    "d. Population size in each borough.\n",
    "e. Income level of people in each borough.\n",
    "f. Purchasing power of people in each borough.\n",
    "g. Social Environment of each borough.\n",
    "h. Location Map of restaurant in each borough; for these we need to take assistance from Foursquare App.\n",
    "\n",
    "### Why we are considering all these factors ?\n",
    "a. If population size is comparatively higher then more people will go for eating in the restaurant.\n",
    "b. If number of restaurant is comparatively lower, the proportion of the customer will be more.\n",
    "c. If average income is more, purchasing power will be more resulting more customer tends to go to restaurant.\n",
    "d. In the better social environment people can comfortably enjoy passing times, going to restaurnt.\n",
    "\n",
    "### How these data will solve the problems?\n",
    "\n",
    "a. By analyzing these data we will find roation number of restaurant to the population of each borough. Assuming other\n",
    "   factors like- purchasing power, social environment and the others remain same, we can reach to conclusion.\n",
    "\n",
    "### Now we need to search for relevant data.\n",
    "\n",
    "A. For relevant data of Manhattan, we use the following link\n",
    "\"https://cf-courses-data.s3.us.cloud-object-storage.appdomain.cloud/IBMDeveloperSkillsNetwork-DS0701EN-SkillsNetwork/labs/newyork_data.json\"\n",
    "\n",
    "which gives us 'Borough', 'Neighborhood', 'Latitude', 'Longitude'\n",
    "B. For population data we use kaggle's borough-wise population in new york. \n",
    "https://www.kaggle.com/new-york-city/new-york-city-population\n",
    "\n",
    "C. For data of Toronto we use the following link.\n",
    "\"https://en.wikipedia.org/wiki/List_of_postal_codes_of_Canada:_M\"\n",
    "\n",
    "D. For all the geographical coordinates of the neighborhoodswe used “https://cocl.us/Geospatial_data” csv file \n",
    "\n",
    "E. For getting the distribution of population “Demographics of Toronto” (https://en.m.wikipedia.org/wiki/Demographics_of_Toronto#Ethnic_diversity) wiki page.\n",
    "\n"
   ]
  },
  {
   "cell_type": "markdown",
   "metadata": {},
   "source": [
    "Note: For data extraction and analysis we work on anther note book."
   ]
  }
 ],
 "metadata": {
  "kernelspec": {
   "display_name": "Python 3",
   "language": "python",
   "name": "python3"
  },
  "language_info": {
   "codemirror_mode": {
    "name": "ipython",
    "version": 3
   },
   "file_extension": ".py",
   "mimetype": "text/x-python",
   "name": "python",
   "nbconvert_exporter": "python",
   "pygments_lexer": "ipython3",
   "version": "3.7.6"
  }
 },
 "nbformat": 4,
 "nbformat_minor": 4
}
